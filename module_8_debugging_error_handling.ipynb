{
 "cells": [
  {
   "cell_type": "markdown",
   "id": "8f7ef4a5",
   "metadata": {},
   "source": [
    "# Module 8: Debugging & Error Handling – The Ultimate Fixer's Guide!"
   ]
  },
  {
   "cell_type": "markdown",
   "id": "0308da2a",
   "metadata": {},
   "source": [
    "## 🔥 Hook – Grab Attention Immediately"
   ]
  },
  {
   "cell_type": "markdown",
   "id": "47298ce8",
   "metadata": {},
   "source": [
    "\n",
    "(Scene: A developer happily coding. Suddenly, a loud error sound! The screen turns red.)\n",
    "\n",
    "💡 *\"You’re coding for hours, everything seems perfect… but then… 💥 ERROR! Your program crashes. Your confidence drops. What went wrong? More importantly, how do you FIX it?\"*\n",
    "\n",
    "🔥 *\"Today, we’re not just fixing errors – we’re mastering the art of debugging like pros!\"*\n",
    "    "
   ]
  },
  {
   "cell_type": "markdown",
   "id": "4c665f77",
   "metadata": {},
   "source": [
    "## 🛑 8.1: Why Do Errors Happen? (And How They Ruin Your Code 😭)"
   ]
  },
  {
   "cell_type": "markdown",
   "id": "89a398ac",
   "metadata": {},
   "source": [
    "\n",
    "🔹 **Real-Life Analogy:**  \n",
    "- Syntax Errors → Like writing an email without a subject line.  \n",
    "- Runtime Errors → Like ordering a dish at a restaurant, but they run out of ingredients while cooking.  \n",
    "- Logical Errors → Like entering the wrong address in Google Maps and ending up lost.  \n",
    "\n",
    "🎭 **Humor Segment:**  \n",
    "*\"Debugging in real life vs. in movies\"* → Show a hacker typing furiously in a Hollywood-style coding scene vs. a real dev googling *\"Why is my code not working?\"* 😂\n",
    "    "
   ]
  },
  {
   "cell_type": "markdown",
   "id": "6039dfbf",
   "metadata": {},
   "source": [
    "## 🏆 8.2: Catching Errors Like a Pro (Try-Except Blocks)"
   ]
  },
  {
   "cell_type": "code",
   "execution_count": null,
   "id": "bcb0740d",
   "metadata": {},
   "outputs": [],
   "source": [
    "\n",
    "try:\n",
    "    num = int(input(\"Enter a number: \"))\n",
    "    result = 10 / num\n",
    "    print(\"Result:\", result)\n",
    "except ZeroDivisionError:\n",
    "    print(\"Error: Cannot divide by zero!\")\n",
    "except ValueError:\n",
    "    print(\"Error: Invalid input. Please enter a number.\")\n",
    "finally:\n",
    "    print(\"Execution Completed!\")\n",
    "    "
   ]
  },
  {
   "cell_type": "markdown",
   "id": "085617da",
   "metadata": {},
   "source": [
    "## 💣 8.3: Custom Exceptions (When Default Errors Aren’t Enough!)"
   ]
  },
  {
   "cell_type": "code",
   "execution_count": null,
   "id": "1ee6bd9c",
   "metadata": {},
   "outputs": [],
   "source": [
    "\n",
    "class NegativeNumberError(Exception):\n",
    "    pass\n",
    "\n",
    "def check_number(num):\n",
    "    if num < 0:\n",
    "        raise NegativeNumberError(\"Negative numbers are not allowed!\")\n",
    "    else:\n",
    "        print(\"Valid number.\")\n",
    "\n",
    "try:\n",
    "    check_number(-5)\n",
    "except NegativeNumberError as e:\n",
    "    print(\"Error:\", e)\n",
    "    "
   ]
  },
  {
   "cell_type": "markdown",
   "id": "7864ebb3",
   "metadata": {},
   "source": [
    "## 🕵️ 8.4: Debugging Like a Detective (Find & Fix Bugs!)"
   ]
  },
  {
   "cell_type": "code",
   "execution_count": null,
   "id": "3c9fed87",
   "metadata": {},
   "outputs": [],
   "source": [
    "\n",
    "import logging\n",
    "logging.basicConfig(level=logging.DEBUG)\n",
    "\n",
    "def divide(a, b):\n",
    "    logging.debug(f\"Dividing {a} by {b}\")\n",
    "    return a / b\n",
    "\n",
    "divide(10, 2)\n",
    "    "
   ]
  },
  {
   "cell_type": "markdown",
   "id": "17c0c5d3",
   "metadata": {},
   "source": [
    "## 🎭 8.5: The 5 Stages of Debugging (Meme Moment 😂)"
   ]
  },
  {
   "cell_type": "markdown",
   "id": "1aa7d5f5",
   "metadata": {},
   "source": [
    "\n",
    "1️⃣ **Denial:** \"It worked yesterday!\"  \n",
    "2️⃣ **Anger:** \"WHY won't it work?!\"  \n",
    "3️⃣ **Bargaining:** \"If this runs, I’ll never write bad code again.\"  \n",
    "4️⃣ **Depression:** \"I’m switching careers.\"  \n",
    "5️⃣ **Acceptance:** \"Fine. I’ll debug.\"  \n",
    "\n",
    "🎯 **Ask Viewers:**  \n",
    "*\"Which stage are you at right now? Comment below!\"*\n",
    "    "
   ]
  },
  {
   "cell_type": "markdown",
   "id": "83d90213",
   "metadata": {},
   "source": [
    "## 🔥 Final Challenge – Debug This Code!"
   ]
  },
  {
   "cell_type": "code",
   "execution_count": null,
   "id": "bdaafa89",
   "metadata": {},
   "outputs": [],
   "source": [
    "\n",
    "num = int(input(\"Enter a number: \"))\n",
    "print(\"Your number is: \" + num)  # 🤔 What's wrong here?\n",
    "    "
   ]
  },
  {
   "cell_type": "markdown",
   "id": "388b8148",
   "metadata": {},
   "source": [
    "## 🎬 Outro – Build Hype for Module 9!"
   ]
  },
  {
   "cell_type": "markdown",
   "id": "6b58d6a7",
   "metadata": {},
   "source": [
    "\n",
    "💡 *\"Now that we’ve conquered errors… what happens when you need to store and retrieve data?\"*  \n",
    "\n",
    "🔥 *\"Stay tuned for Module 9 – File Handling in Python!\"*\n",
    "    "
   ]
  }
 ],
 "metadata": {},
 "nbformat": 4,
 "nbformat_minor": 5
}