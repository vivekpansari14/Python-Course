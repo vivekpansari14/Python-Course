{
 "cells": [
  {
   "cell_type": "markdown",
   "id": "91e877c8",
   "metadata": {},
   "source": [
    "# Module 7: Object-Oriented Programming (OOP) in Python"
   ]
  },
  {
   "cell_type": "markdown",
   "id": "3e43a484",
   "metadata": {},
   "source": [
    "## Why `OOP` Matters?\n",
    "\n",
    "- Ever tried coding a game… and it turned into a complete mess?\n",
    "- There’s a better way. Instead of chaos, what if you had a blueprint that made everything reusable and organized?\n",
    "- That’s where Object-Oriented Programming comes in. Think of it as a game engine for your code, efficient, scalable, and clean.\n",
    "- Let’s break it down and build our own mini game framework using oops. Ready? Let’s dive in!\n",
    "\n"
   ]
  },
  {
   "cell_type": "markdown",
   "id": "adf68b26",
   "metadata": {},
   "source": [
    "## 📢 7.1 What is Object-Oriented Programming (OOP)?\n",
    "Object-Oriented Programming (OOP) is a programming paradigm that focuses on creating objects that interact with one another."
   ]
  },
  {
   "cell_type": "markdown",
   "id": "5979b3a6",
   "metadata": {},
   "source": [
    "### 🔹 Key Concepts in OOP:\n",
    "| Concept   | Description |\n",
    "|-----------|------------|\n",
    "| Class     | A blueprint for creating objects (e.g., Car, Animal, Student). |\n",
    "| Object    | An instance of a class with specific values. |\n",
    "| Attribute | Variables that store the object's properties. |\n",
    "| Method    | Functions inside a class that define object behavior. |"
   ]
  },
  {
   "cell_type": "code",
   "execution_count": 3,
   "id": "692291dd",
   "metadata": {},
   "outputs": [
    {
     "name": "stdout",
     "output_type": "stream",
     "text": [
      "Car: Toyota Camry\n",
      "Car: Honda Civic\n"
     ]
    }
   ],
   "source": [
    "# Example: Creating a Class and Object\n",
    "class Car:\n",
    "    def __init__(self, brand, model):\n",
    "        self.brand = brand  # Attribute\n",
    "        self.model = model  # Attribute\n",
    "\n",
    "    def show_details(self):  # Method\n",
    "        print(f\"Car: {self.brand} {self.model}\")\n",
    "\n",
    "# Creating objects\n",
    "car1 = Car(\"Toyota\", \"Camry\")\n",
    "car2 = Car(\"Honda\", \"Civic\")\n",
    "\n",
    "car1.show_details()\n",
    "car2.show_details()"
   ]
  },
  {
   "cell_type": "markdown",
   "id": "e299902e",
   "metadata": {},
   "source": [
    "## 📢 7.2 Classes & Objects in Python\n",
    "- ✔ A class is like a blueprint for creating objects.\n",
    "- ✔ An object is an actual instance of a class with specific values.\n",
    "- ✔ Objects store data (attributes) and behavior (methods)."
   ]
  },
  {
   "cell_type": "code",
   "execution_count": 4,
   "id": "8e4e4aac",
   "metadata": {},
   "outputs": [
    {
     "name": "stdout",
     "output_type": "stream",
     "text": [
      "Knight is at Level 5!\n"
     ]
    }
   ],
   "source": [
    "# Example: Defining a Class and Creating Objects\n",
    "class Player:\n",
    "    def __init__(self, name, level):\n",
    "        self.name = name\n",
    "        self.level = level\n",
    "\n",
    "    def introduce(self):\n",
    "        print(f\"{self.name} is at Level {self.level}!\")\n",
    "\n",
    "player1 = Player(\"Knight\", 5)\n",
    "player1.introduce()"
   ]
  },
  {
   "cell_type": "markdown",
   "id": "1046b3b4",
   "metadata": {},
   "source": [
    "### 🎯 Mini Challenge:\n",
    "Create a class called `Book` with attributes `title` and `author`, and add a method to print book details."
   ]
  },
  {
   "cell_type": "code",
   "execution_count": 6,
   "id": "122bf802",
   "metadata": {},
   "outputs": [
    {
     "name": "stdout",
     "output_type": "stream",
     "text": [
      "The book, The monk who sold his ferrari is written by Robin sharma!\n"
     ]
    }
   ],
   "source": [
    "class Book:\n",
    "    def __init__(self, title, author):\n",
    "        self.title = title\n",
    "        self.author = author\n",
    "\n",
    "    def introduce(self):\n",
    "        print(f\"The book, {self.title} is written by {self.author}!\")\n",
    "\n",
    "book1= Book(\"The monk who sold his ferrari\", \"Robin sharma\")\n",
    "book1.introduce()"
   ]
  },
  {
   "cell_type": "markdown",
   "id": "3a2dae76",
   "metadata": {},
   "source": [
    "## 📢 7.3 The Four Pillars of OOP\n",
    "### 🔹 1. Encapsulation: Data Hiding & Protection\n",
    "\n",
    "Imagine a bank account where users can’t directly change the balance!"
   ]
  },
  {
   "cell_type": "code",
   "execution_count": 7,
   "id": "b25ece03",
   "metadata": {},
   "outputs": [
    {
     "name": "stdout",
     "output_type": "stream",
     "text": [
      "1500\n"
     ]
    }
   ],
   "source": [
    "# Example of Encapsulation\n",
    "class BankAccount:\n",
    "    def __init__(self, balance):\n",
    "        self.__balance = balance  # Private attribute\n",
    "\n",
    "    def deposit(self, amount):\n",
    "        self.__balance += amount\n",
    "\n",
    "    def withdraw(self, amount):\n",
    "        if amount <= self.__balance:\n",
    "            self.__balance -= amount\n",
    "        else:\n",
    "            print(\"Insufficient funds\")\n",
    "\n",
    "    def get_balance(self):\n",
    "        return self.__balance\n",
    "\n",
    "# Creating an object\n",
    "account = BankAccount(1000)\n",
    "account.deposit(500)\n",
    "print(account.get_balance())"
   ]
  },
  {
   "cell_type": "markdown",
   "id": "26d101c8",
   "metadata": {},
   "source": [
    "### 🔹 2. Abstraction: Hiding Implementation Details\n",
    "\n",
    "Think of a smartphone: You press a button, and it just works!"
   ]
  },
  {
   "cell_type": "code",
   "execution_count": 12,
   "id": "085b78d6",
   "metadata": {},
   "outputs": [],
   "source": [
    "# Example of Abstraction using ABC (Abstract Base Class)\n",
    "from abc import ABC, abstractmethod\n",
    "\n",
    "class Animal(ABC):  \n",
    "    @abstractmethod\n",
    "    def make_sound(self):\n",
    "        pass  \n",
    "\n",
    "class Dog(Animal):  \n",
    "    def make_sound(self):\n",
    "        pass\n",
    "\n",
    "class Cat(Animal):\n",
    "    def make_sound(self):\n",
    "        print(\"Meow!\")\n",
    "\n",
    "# Creating objects\n",
    "dog = Dog()\n",
    "dog.make_sound()"
   ]
  },
  {
   "cell_type": "markdown",
   "id": "6d171ec4",
   "metadata": {},
   "source": [
    "## Why Use Abstraction?\n",
    "- Ensures that all subclasses must implement the abstract method (make_sound() in this case).\n",
    "- Provides a template for future subclasses.\n",
    "- Helps in code reusability and maintainability."
   ]
  },
  {
   "cell_type": "markdown",
   "id": "71025263",
   "metadata": {},
   "source": [
    "### 🔹 3. Inheritance: Reusing Code\n",
    "\n",
    "Why write the same code twice? Inherit it instead!"
   ]
  },
  {
   "cell_type": "code",
   "execution_count": 13,
   "id": "9d6587b1",
   "metadata": {},
   "outputs": [
    {
     "name": "stdout",
     "output_type": "stream",
     "text": [
      "Buddy says Woof!\n"
     ]
    }
   ],
   "source": [
    "# Example of Inheritance\n",
    "class Animal:\n",
    "    def __init__(self, name):\n",
    "        self.name = name\n",
    "\n",
    "    def speak(self):\n",
    "        print(\"Animal makes a sound.\")\n",
    "\n",
    "class Dog(Animal):  \n",
    "    def speak(self):\n",
    "        print(f\"{self.name} says Woof!\")\n",
    "\n",
    "dog1 = Dog(\"Buddy\")\n",
    "dog1.speak()"
   ]
  },
  {
   "cell_type": "markdown",
   "id": "02dbe4b1",
   "metadata": {},
   "source": [
    "### 🔹 4. Polymorphism: Same Interface, Different Behavior\n",
    "\n",
    "Example: Birds flying differently!"
   ]
  },
  {
   "cell_type": "code",
   "execution_count": 14,
   "id": "fbc36b3a",
   "metadata": {},
   "outputs": [
    {
     "name": "stdout",
     "output_type": "stream",
     "text": [
      "Sparrow flies high!\n",
      "Penguins cannot fly.\n"
     ]
    }
   ],
   "source": [
    "# Example of Polymorphism\n",
    "class Bird:\n",
    "    def fly(self):\n",
    "        print(\"Some birds can fly.\")\n",
    "\n",
    "class Sparrow(Bird):\n",
    "    def fly(self):\n",
    "        print(\"Sparrow flies high!\")\n",
    "\n",
    "class Penguin(Bird):\n",
    "    def fly(self):\n",
    "        print(\"Penguins cannot fly.\")\n",
    "\n",
    "# Polymorphism in action\n",
    "for bird in [Sparrow(), Penguin()]:\n",
    "    bird.fly()"
   ]
  },
  {
   "cell_type": "markdown",
   "id": "1049f349",
   "metadata": {},
   "source": [
    "## 📢 7.4 Method Overloading & Overriding\n",
    "\n",
    "Python doesn't support method overloading(multiple methods with the same name) in the traditional sense (like Java or C++), but we can achieve it using default arguments. However, method overriding is fully supported in Python’s OOP"
   ]
  },
  {
   "cell_type": "code",
   "execution_count": 15,
   "id": "7057a446",
   "metadata": {},
   "outputs": [
    {
     "name": "stdout",
     "output_type": "stream",
     "text": [
      "5\n",
      "15\n",
      "35\n"
     ]
    }
   ],
   "source": [
    "#Example of Method Overloading\n",
    "class MathOperations:\n",
    "    def add(self, a, b=0, c=0):\n",
    "        return a + b + c\n",
    "\n",
    "math_obj = MathOperations()\n",
    "print(math_obj.add(5))         # Output: 5 (Only one argument)\n",
    "print(math_obj.add(5, 10))     # Output: 15 (Two arguments)\n",
    "print(math_obj.add(5, 10, 20)) # Output: 35 (Three arguments)\n",
    "\n",
    "#This approach simulates method overloading in Python without needing multiple function definitions.\n"
   ]
  },
  {
   "cell_type": "code",
   "execution_count": 16,
   "id": "66515bcd",
   "metadata": {},
   "outputs": [
    {
     "name": "stdout",
     "output_type": "stream",
     "text": [
      "Child method\n"
     ]
    }
   ],
   "source": [
    "# Example of Overriding\n",
    "class Parent:\n",
    "    def show(self):\n",
    "        print(\"Parent method\")\n",
    "\n",
    "class Child(Parent):\n",
    "    def show(self):\n",
    "        print(\"Child method\")\n",
    "\n",
    "obj = Child()\n",
    "obj.show()"
   ]
  },
  {
   "cell_type": "markdown",
   "id": "b6809da5",
   "metadata": {},
   "source": [
    "## 🎯Boss Challenge: Your First OOP-Based Game Framework\n",
    "\n",
    "Let's build a basic RPG Game Framework using OOP! 🕹"
   ]
  },
  {
   "cell_type": "code",
   "execution_count": 20,
   "id": "55ddebf5",
   "metadata": {},
   "outputs": [
    {
     "name": "stdout",
     "output_type": "stream",
     "text": [
      "Knight attacks Dragon and reduces its health to 80!\n",
      "Dragon attacks Knight and reduces its health to 70!\n"
     ]
    }
   ],
   "source": [
    "class character:\n",
    "    def __init__(self, name, health, attack_pow):\n",
    "        self.name = name\n",
    "        self.health = health\n",
    "        self.attack_pow = attack_pow\n",
    "\n",
    "    def attack(self, enemy):\n",
    "        enemy.health -= self.attack_pow\n",
    "        print(f\"{self.name} attacks {enemy.name} and reduces its health to {enemy.health}!\")\n",
    "\n",
    "hero = character(\"Knight\", 100, 20)\n",
    "enemy = character(\"Dragon\", 100, 30)\n",
    "\n",
    "hero.attack(enemy)\n",
    "enemy.attack(hero)\n"
   ]
  },
  {
   "cell_type": "markdown",
   "id": "cb0522f1",
   "metadata": {},
   "source": [
    "## 🎯 Module 7 Summary\n"
   ]
  },
  {
   "cell_type": "markdown",
   "id": "0ead4229",
   "metadata": {},
   "source": [
    "✅ OOP organizes code into classes and objects.\n",
    "✅ Encapsulation hides data for security.\n",
    "✅ Abstraction simplifies complex logic.\n",
    "✅ Inheritance promotes code reusability.\n",
    "✅ Polymorphism allows flexibility in method usage.\n",
    "\n",
    "**🚀 Next Steps: In Module 8, we’ll tackle Error Handling & Debugging like a pro! 🔥**\n",
    "\n",
    "💬 Question for You: What real-world problem would you solve using OOP? Drop your ideas in the comments! 🧠"
   ]
  }
 ],
 "metadata": {
  "kernelspec": {
   "display_name": "Python 3",
   "language": "python",
   "name": "python3"
  },
  "language_info": {
   "codemirror_mode": {
    "name": "ipython",
    "version": 3
   },
   "file_extension": ".py",
   "mimetype": "text/x-python",
   "name": "python",
   "nbconvert_exporter": "python",
   "pygments_lexer": "ipython3",
   "version": "3.8.18"
  }
 },
 "nbformat": 4,
 "nbformat_minor": 5
}
